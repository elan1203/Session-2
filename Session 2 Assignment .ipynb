{
 "cells": [
  {
   "cell_type": "markdown",
   "metadata": {},
   "source": [
    "## <center>Task 1</center>"
   ]
  },
  {
   "cell_type": "markdown",
   "metadata": {},
   "source": [
    "1.1. Write a Python Program to implement your own myreduce() function which works exactly like\n",
    "Python's built-in function reduce()"
   ]
  },
  {
   "cell_type": "code",
   "execution_count": 6,
   "metadata": {},
   "outputs": [
    {
     "data": {
      "text/plain": [
       "26460"
      ]
     },
     "execution_count": 6,
     "metadata": {},
     "output_type": "execute_result"
    }
   ],
   "source": [
    "from functools import reduce\n",
    "\n",
    "lst =[5,3,12,7,21]\n",
    "reduce(lambda x,y: x*y,lst)"
   ]
  },
  {
   "cell_type": "markdown",
   "metadata": {},
   "source": [
    "1.2. Write a Python program to implement your own myfilter() function which works exactly like\n",
    "Python's built-in function filter()"
   ]
  },
  {
   "cell_type": "code",
   "execution_count": 7,
   "metadata": {},
   "outputs": [
    {
     "data": {
      "text/plain": [
       "[0, 9, 18, 27, 36, 45, 54, 63, 72, 81, 90, 99, 108, 117]"
      ]
     },
     "execution_count": 7,
     "metadata": {},
     "output_type": "execute_result"
    }
   ],
   "source": [
    "def myfilter(num):\n",
    "    if num%9==0:\n",
    "        return True\n",
    "    \n",
    "lst=range(120)\n",
    "\n",
    "list(filter(myfilter,lst))"
   ]
  },
  {
   "cell_type": "markdown",
   "metadata": {},
   "source": [
    "2. Implement List comprehensions to produce the following lists.\n",
    "\n",
    "Write List comprehensions to produce the following Lists\n",
    "\n",
    "['A', 'C', 'A', 'D', 'G', 'I', ’L’, ‘ D’]<br>\n",
    "['x', 'xx', 'xxx', 'xxxx', 'y', 'yy', 'yyy', 'yyyy', 'z', 'zz', 'zzz', 'zzzz']<br>\n",
    "['x', 'y', 'z', 'xx', 'yy', 'zz', 'xx', 'yy', 'zz', 'xxxx', 'yyyy', 'zzzz']<br>\n",
    "[[2], [3], [4], [3], [4], [5], [4], [5], [6]]<br>\n",
    "[[2, 3, 4, 5], [3, 4, 5, 6], [4, 5, 6, 7], [5, 6, 7, 8]]<br>\n",
    "[(1, 1), (2, 1), (3, 1), (1, 2), (2, 2), (3, 2), (1, 3), (2, 3), (3, 3)]<br>"
   ]
  },
  {
   "cell_type": "code",
   "execution_count": 9,
   "metadata": {},
   "outputs": [
    {
     "name": "stdout",
     "output_type": "stream",
     "text": [
      "['E', 'L', 'A', 'N', 'G', 'O', 'V', 'A', 'N']\n",
      "['x', 'xx', 'xxx', 'xxxx', 'y', 'yy', 'yyy', 'yyyy', 'z', 'zz', 'zzz', 'zzzz']\n",
      "['x', 'y', 'z', 'xx', 'yy', 'zz', 'xxx', 'yyy', 'zzz', 'xxxx', 'yyyy', 'zzzz']\n",
      "[[2], [3], [4], [3], [4], [5], [4], [5], [6]]\n",
      "[[2, 3, 4, 5], [3, 4, 5, 6], [4, 5, 6, 7], [5, 6, 7, 8]]\n",
      "[(1, 1), (2, 1), (3, 1), (1, 2), (2, 2), (3, 2), (1, 3), (2, 3), (3, 3)]\n"
     ]
    }
   ],
   "source": [
    "alphabet = [ word for word in 'ELANGOVAN' ]\n",
    "print (alphabet)\n",
    "\n",
    "ip_list = ['x','y','z']\n",
    "out = [ item*num for item in ip_list for num in range(1,5)  ]\n",
    "print(str(out))\n",
    "\n",
    "ip_list = ['x','y','z']\n",
    "out = [ item*num for num in range(1,5) for item in ip_list  ]\n",
    "print(str(out))\n",
    "\n",
    "ip_list = [2,3,4]\n",
    "out = [ [item+num] for item in ip_list for num in range(0,3)]\n",
    "print(str(out))\n",
    "\n",
    "ip_list = [2,3,4,5]\n",
    "out = [ [item+num for item in ip_list] for num in range(0,4)  ]\n",
    "print(str(out))\n",
    "\n",
    "ip_list=[1,2,3]\n",
    "out = [ (b,a) for a in ip_list for b in ip_list]\n",
    "print(str(out))"
   ]
  },
  {
   "cell_type": "markdown",
   "metadata": {},
   "source": [
    "3. Implement a function longestWord() that takes a list of words and returns the longest one"
   ]
  },
  {
   "cell_type": "code",
   "execution_count": 10,
   "metadata": {},
   "outputs": [
    {
     "name": "stdout",
     "output_type": "stream",
     "text": [
      "The Longest word is : ELANGOVAN\n"
     ]
    }
   ],
   "source": [
    "def longestWord(words):\n",
    "    longestWords_len = []\n",
    "    for n in words:\n",
    "        longestWords_len.append((len(n), n))\n",
    "    longestWords_len.sort()\n",
    "    return longestWords_len[-1][1]\n",
    "print('The Longest word is : '+longestWord([\"ELANGOVAN\", \"ELAN\", \"ELANGO\"]))"
   ]
  },
  {
   "cell_type": "markdown",
   "metadata": {},
   "source": [
    "## <center> Task 2</center>"
   ]
  },
  {
   "cell_type": "markdown",
   "metadata": {},
   "source": [
    "1.1. Write a Python Program(with class concepts) to find the area of the triangle using the below\n",
    "formula.\n",
    "\n",
    "area = (s*(s-a)*(s-b)*(s-c)) ** 0.5\n",
    "\n",
    "Function to take the length of the sides of triangle from user should be defined in the parent\n",
    "class and function to calculate the area should be defined in subclass."
   ]
  },
  {
   "cell_type": "code",
   "execution_count": 11,
   "metadata": {},
   "outputs": [
    {
     "name": "stdout",
     "output_type": "stream",
     "text": [
      "Enter side A value :12\n",
      "Enter side B value :20\n",
      "Enter side C value :15\n",
      "The Area of Triangle is 89.67\n"
     ]
    }
   ],
   "source": [
    "class Area:\n",
    "    def __init__(self, a, b, c):\n",
    "        self.a=a\n",
    "        self.b=b\n",
    "        self.c=c\n",
    "\n",
    "class Triangle(Area):\n",
    "    def __init__(self, *args):  \n",
    "        super(Triangle, self).__init__(*args)\n",
    "        \n",
    "    def printsides(self):\n",
    "        print(self.a)\n",
    "        print(self.b)\n",
    "        print(self.c)\n",
    "\n",
    "    def findArea(self):\n",
    "    \n",
    "        # calculate the semi-perimeter\n",
    "        s = float((self.a + self.b + self.c)) / 2\n",
    "        area =(s*(s-(self.a))*(s-(self.b))*(s-(self.c))) ** 0.5\n",
    "        print('The Area of Triangle is %0.2f' %area)\n",
    "        \n",
    "tt=Triangle(float(input(\"Enter side A value :\")),float(input(\"Enter side B value :\")),float(input(\"Enter side C value :\")))\n",
    "tt.findArea()"
   ]
  },
  {
   "cell_type": "markdown",
   "metadata": {},
   "source": [
    "1.2. Write a function filter_long_words() that takes a list of words and an integer n and returns the list\n",
    "of words that are longer than n."
   ]
  },
  {
   "cell_type": "code",
   "execution_count": 12,
   "metadata": {},
   "outputs": [
    {
     "name": "stdout",
     "output_type": "stream",
     "text": [
      "['DOING', 'VERY', 'GOOD']\n"
     ]
    }
   ],
   "source": [
    "def long_words(words, n):\n",
    "    return [word for word in words if len(word) > n]\n",
    "\n",
    "print(long_words(['I', 'AM', 'DOING', 'VERY', 'GOOD'], 3))"
   ]
  },
  {
   "cell_type": "markdown",
   "metadata": {},
   "source": [
    "2.1 Write a Python program using function concept that maps list of words into a list of integers\n",
    "representing the lengths of the corresponding words .<br>\n",
    "Hint: If a list [ ab,cde,erty] is passed on to the python function output should come as [2,3,4]\n",
    "Here 2,3 and 4 are the lengths of the words in the list."
   ]
  },
  {
   "cell_type": "code",
   "execution_count": 13,
   "metadata": {},
   "outputs": [
    {
     "name": "stdout",
     "output_type": "stream",
     "text": [
      "[1, 2, 3, 4, 5]\n"
     ]
    }
   ],
   "source": [
    "def lengths_map(words):\n",
    "    return map(len, words)\n",
    "\n",
    "if __name__ == \"__main__\":\n",
    "    words = ['a','an', 'the', 'this','these']\n",
    "    print(list(lengths_map(words)))"
   ]
  },
  {
   "cell_type": "markdown",
   "metadata": {},
   "source": [
    "2.2. Write a Python function which takes a character (i.e. a string of length 1) and returns True if it is\n",
    "a vowel, False otherwise."
   ]
  },
  {
   "cell_type": "code",
   "execution_count": 14,
   "metadata": {},
   "outputs": [
    {
     "name": "stdout",
     "output_type": "stream",
     "text": [
      "False\n",
      "True\n",
      "True\n",
      "False\n",
      "True\n",
      "True\n",
      "True\n"
     ]
    }
   ],
   "source": [
    "def vowel(char):\n",
    "    string_of_length = ('a', 'e', 'i', 'o', 'u')\n",
    "    if char not in string_of_length:\n",
    "        return False\n",
    "    return True\n",
    "\n",
    "\n",
    "if __name__ == \"__main__\":\n",
    "    print(vowel('-'))\n",
    "    print(vowel('i'))\n",
    "    print(vowel('e'))\n",
    "    print(vowel('k'))\n",
    "    print(vowel('a'))\n",
    "    print(vowel('o'))\n",
    "    print(vowel('u'))"
   ]
  }
 ],
 "metadata": {
  "kernelspec": {
   "display_name": "Python 3",
   "language": "python",
   "name": "python3"
  },
  "language_info": {
   "codemirror_mode": {
    "name": "ipython",
    "version": 3
   },
   "file_extension": ".py",
   "mimetype": "text/x-python",
   "name": "python",
   "nbconvert_exporter": "python",
   "pygments_lexer": "ipython3",
   "version": "3.7.0"
  }
 },
 "nbformat": 4,
 "nbformat_minor": 2
}
